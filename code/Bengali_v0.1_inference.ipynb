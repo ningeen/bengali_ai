{
 "cells": [
  {
   "cell_type": "code",
   "execution_count": 1,
   "metadata": {
    "_cell_guid": "b1076dfc-b9ad-4769-8c92-a6c4dae69d19",
    "_uuid": "8f2839f25d086af736a60e9eeb907d3b93b6e0e5"
   },
   "outputs": [],
   "source": [
    "import numpy as np\n",
    "import pandas as pd\n",
    "import cv2\n",
    "\n",
    "import time\n",
    "import os\n",
    "import gc\n",
    "from tqdm import tqdm\n",
    "\n",
    "%matplotlib inline\n",
    "import matplotlib.pyplot as plt\n",
    "import seaborn as sns"
   ]
  },
  {
   "cell_type": "code",
   "execution_count": 2,
   "metadata": {
    "_cell_guid": "79c7e3d0-c299-4dcb-8224-4455121ee9b0",
    "_uuid": "d629ff2d2480ee46fbb7e2d37f6b5fab8052498a"
   },
   "outputs": [],
   "source": [
    "HEIGHT = 137\n",
    "WIDTH = 236\n",
    "\n",
    "CROP_SIZE = 128"
   ]
  },
  {
   "cell_type": "code",
   "execution_count": 3,
   "metadata": {},
   "outputs": [],
   "source": [
    "OUT_PATH = './images/'\n",
    "os.mkdir(OUT_PATH)"
   ]
  },
  {
   "cell_type": "markdown",
   "metadata": {},
   "source": [
    "* Load images from parquet/feather depending on submit\n",
    "* crop and save images"
   ]
  },
  {
   "cell_type": "code",
   "execution_count": 4,
   "metadata": {},
   "outputs": [],
   "source": [
    "preproc_time = time.time()"
   ]
  },
  {
   "cell_type": "code",
   "execution_count": 5,
   "metadata": {},
   "outputs": [],
   "source": [
    "def crop_image(img, crop_size=CROP_SIZE):\n",
    "    return cv2.resize(img, (crop_size, crop_size))"
   ]
  },
  {
   "cell_type": "code",
   "execution_count": 6,
   "metadata": {},
   "outputs": [],
   "source": [
    "def reshape_data(data):\n",
    "    return 255 - data.iloc[:, 1:].values.reshape(-1, HEIGHT, WIDTH).astype(np.uint8)\n",
    "\n",
    "def prepare_image(data_type='train', indices=[0, 1, 2, 3]):\n",
    "    assert data_type in ['train', 'test']\n",
    "    \n",
    "    datadir = '/kaggle/input/bengaliai-cv19'\n",
    "    featherdir = '/kaggle/input/bengaliaicv19feather'\n",
    "    \n",
    "    img_names = list()\n",
    "    \n",
    "    for i in indices:\n",
    "        print(f'Preprocess part #{i + 1}/{len(indices)}')\n",
    "        fname = os.path.join(datadir, f'{data_type}_image_data_{i}.parquet')\n",
    "        image_df = pd.read_parquet(fname)\n",
    "\n",
    "        img_names_part = image_df.iloc[:, 0].to_numpy()\n",
    "        img_names.append(img_names_part)\n",
    "\n",
    "        image_df = reshape_data(image_df)\n",
    "        \n",
    "        for idx in tqdm(range(len(image_df))):\n",
    "            name = img_names_part[idx]\n",
    "            img_path = os.path.join(OUT_PATH, f'{name}.png')\n",
    "            img = crop_image(image_df[idx])\n",
    "            cv2.imwrite(img_path, img)\n",
    "\n",
    "        del image_df\n",
    "        gc.collect()\n",
    "    \n",
    "    img_names = np.concatenate(img_names, axis=0)\n",
    "    print(f'Preprocess complete. Number of images: {len(img_names)}')\n",
    "    return img_names"
   ]
  },
  {
   "cell_type": "code",
   "execution_count": 7,
   "metadata": {},
   "outputs": [
    {
     "name": "stdout",
     "output_type": "stream",
     "text": [
      "Preprocess part #1/4\n"
     ]
    },
    {
     "name": "stderr",
     "output_type": "stream",
     "text": [
      "100%|██████████| 3/3 [00:00<00:00, 170.00it/s]\n"
     ]
    },
    {
     "name": "stdout",
     "output_type": "stream",
     "text": [
      "Preprocess part #2/4\n"
     ]
    },
    {
     "name": "stderr",
     "output_type": "stream",
     "text": [
      "100%|██████████| 3/3 [00:00<00:00, 1155.99it/s]\n"
     ]
    },
    {
     "name": "stdout",
     "output_type": "stream",
     "text": [
      "Preprocess part #3/4\n"
     ]
    },
    {
     "name": "stderr",
     "output_type": "stream",
     "text": [
      "100%|██████████| 3/3 [00:00<00:00, 946.08it/s]\n"
     ]
    },
    {
     "name": "stdout",
     "output_type": "stream",
     "text": [
      "Preprocess part #4/4\n"
     ]
    },
    {
     "name": "stderr",
     "output_type": "stream",
     "text": [
      "100%|██████████| 3/3 [00:00<00:00, 1485.59it/s]"
     ]
    },
    {
     "name": "stdout",
     "output_type": "stream",
     "text": [
      "Preprocess complete. Number of images: 12\n"
     ]
    },
    {
     "name": "stderr",
     "output_type": "stream",
     "text": [
      "\n"
     ]
    }
   ],
   "source": [
    "img_names = prepare_image(data_type='test', indices=[0, 1, 2, 3])  # indices=[0, 1, 2, 3]"
   ]
  },
  {
   "cell_type": "code",
   "execution_count": 8,
   "metadata": {},
   "outputs": [],
   "source": [
    "preproc_time = (time.time() - preproc_time)"
   ]
  },
  {
   "cell_type": "code",
   "execution_count": 9,
   "metadata": {},
   "outputs": [
    {
     "data": {
      "text/plain": [
       "10.769626140594482"
      ]
     },
     "execution_count": 9,
     "metadata": {},
     "output_type": "execute_result"
    }
   ],
   "source": [
    "preproc_time"
   ]
  },
  {
   "cell_type": "markdown",
   "metadata": {},
   "source": [
    "## Prediction"
   ]
  },
  {
   "cell_type": "code",
   "execution_count": 10,
   "metadata": {},
   "outputs": [],
   "source": [
    "import numpy as np\n",
    "import pandas as pd\n",
    "import cv2\n",
    "from PIL import Image\n",
    "import six\n",
    "\n",
    "import random\n",
    "import time\n",
    "import os\n",
    "import gc\n",
    "from tqdm import tqdm\n",
    "\n",
    "%matplotlib inline\n",
    "import matplotlib.pyplot as plt\n",
    "import seaborn as sns\n",
    "\n",
    "import torch\n",
    "import torchvision"
   ]
  },
  {
   "cell_type": "code",
   "execution_count": 11,
   "metadata": {},
   "outputs": [],
   "source": [
    "!pip install ../input/pytorch-pretrained-models/repository/pretrained-models.pytorch-master/ > /dev/null # no output"
   ]
  },
  {
   "cell_type": "code",
   "execution_count": 12,
   "metadata": {},
   "outputs": [],
   "source": [
    "BATCH_SIZE = 128\n",
    "MODEL_NAME ='se_resnext50_32x4d'"
   ]
  },
  {
   "cell_type": "code",
   "execution_count": 13,
   "metadata": {},
   "outputs": [],
   "source": [
    "test_time = time.time()"
   ]
  },
  {
   "cell_type": "code",
   "execution_count": 14,
   "metadata": {},
   "outputs": [],
   "source": [
    "class BengaliAIDataset(torch.utils.data.Dataset):\n",
    "    def __init__(self, images_path, labels=None, transform=None):\n",
    "        self.images_path = images_path\n",
    "        self.transform = transform\n",
    "        self.labels = labels\n",
    "        \n",
    "        if len(labels.shape) > 1:  \n",
    "            # train\n",
    "            self.image_names = self.labels[:, 0] + '.png'\n",
    "            self.targets = self.labels[:, 1:4].astype(np.uint8)\n",
    "        else:  \n",
    "            # test\n",
    "            self.image_names = labels + '.png'\n",
    "            self.targets = None\n",
    "    \n",
    "    def __len__(self):\n",
    "        \"\"\"return length of this dataset\"\"\"\n",
    "        return len(self.labels)        \n",
    "    \n",
    "    def get_image(self, image_name):\n",
    "        \"\"\"\n",
    "        gets a image by a name gathered from file list text file\n",
    "        :param name: name of targeted image\n",
    "        :return: an image\n",
    "        \"\"\"\n",
    "        image_path = os.path.join(self.images_path, image_name)\n",
    "        image = Image.open(image_path)\n",
    "        return image\n",
    "    \n",
    "    def __getitem__(self, index):\n",
    "        image_name = self.image_names[index]\n",
    "        image = self.get_image(image_name)\n",
    "        \n",
    "        if self.transform:\n",
    "            image = self.transform(image)\n",
    "        \n",
    "        if self.targets is None:\n",
    "            # test\n",
    "            return image\n",
    "        \n",
    "        # train\n",
    "        target = torch.from_numpy(self.targets[index])\n",
    "        return image, target"
   ]
  },
  {
   "cell_type": "code",
   "execution_count": 15,
   "metadata": {},
   "outputs": [],
   "source": [
    "train_transform = torchvision.transforms.Compose([\n",
    "                torchvision.transforms.ToTensor(),\n",
    "                torchvision.transforms.Normalize((0.0528,), (0.1629,))]) "
   ]
  },
  {
   "cell_type": "code",
   "execution_count": 16,
   "metadata": {},
   "outputs": [],
   "source": [
    "test_dataset = BengaliAIDataset(images_path=OUT_PATH, labels=img_names, transform=train_transform)"
   ]
  },
  {
   "cell_type": "code",
   "execution_count": 17,
   "metadata": {},
   "outputs": [],
   "source": [
    "loader_test = torch.utils.data.DataLoader(test_dataset, batch_size=BATCH_SIZE, num_workers=0)"
   ]
  },
  {
   "cell_type": "markdown",
   "metadata": {},
   "source": [
    "## Model"
   ]
  },
  {
   "cell_type": "code",
   "execution_count": 18,
   "metadata": {},
   "outputs": [],
   "source": [
    "import pretrainedmodels\n",
    "from torch import nn\n",
    "import torch.nn.functional as F\n",
    "\n",
    "import copy\n",
    "\n",
    "from sklearn.metrics import recall_score"
   ]
  },
  {
   "cell_type": "code",
   "execution_count": 19,
   "metadata": {},
   "outputs": [],
   "source": [
    "def pred_from_model(model, dataloader):\n",
    "    y_pred = list()\n",
    "    \n",
    "    for inputs in tqdm(dataloader):\n",
    "        inputs = inputs.to(device)\n",
    "\n",
    "        outputs = model(inputs)\n",
    "\n",
    "        outputs = torch.split(outputs, [n_grapheme, n_vowel, n_consonant], dim=1)\n",
    "        y_pred_batch = [torch.argmax(yp, dim=1, keepdim=True).cpu().numpy() for yp in outputs]\n",
    "        y_pred_batch = np.concatenate(y_pred_batch, axis=1)\n",
    "\n",
    "        y_pred.append(y_pred_batch)\n",
    "        \n",
    "    y_pred = np.concatenate(y_pred, axis=0)\n",
    "        \n",
    "    return y_pred"
   ]
  },
  {
   "cell_type": "code",
   "execution_count": 20,
   "metadata": {},
   "outputs": [],
   "source": [
    "def get_model_test(model_name='se_resnext101_32x4d', n_out=186, pretrained='imagenet', device=None):\n",
    "    if model_name.startswith('se_resnext'):\n",
    "        model = pretrainedmodels.__dict__[model_name](pretrained=None)\n",
    "\n",
    "        model.layer0.conv1.in_channels = 1\n",
    "        model.layer0.conv1.weight.data = model.layer0.conv1.weight.mean(dim=1, keepdim=True)\n",
    "\n",
    "        model.avg_pool = nn.AvgPool2d(kernel_size=4, stride=1)\n",
    "        model.last_linear = nn.Linear(in_features=2048, out_features=n_out, bias=True)\n",
    "        \n",
    "        trained_path = '../input/trained-seresnext/seresnext_v0.1.pt'\n",
    "        model.load_state_dict(torch.load(trained_path, map_location=device))\n",
    "\n",
    "    else:\n",
    "        raise Exception\n",
    "    return model"
   ]
  },
  {
   "cell_type": "code",
   "execution_count": 21,
   "metadata": {},
   "outputs": [],
   "source": [
    "device = torch.device(\"cuda:0\" if torch.cuda.is_available() else \"cpu\")\n",
    "n_grapheme = 168\n",
    "n_vowel = 11\n",
    "n_consonant = 7\n",
    "n_total = n_grapheme + n_vowel + n_consonant\n",
    "\n",
    "model = get_model_test(model_name=MODEL_NAME, n_out=n_total, device=device)\n",
    "model = model.to(device)"
   ]
  },
  {
   "cell_type": "code",
   "execution_count": 22,
   "metadata": {},
   "outputs": [
    {
     "name": "stderr",
     "output_type": "stream",
     "text": [
      "100%|██████████| 1/1 [00:00<00:00,  1.04it/s]\n"
     ]
    }
   ],
   "source": [
    "y_pred = pred_from_model(model, loader_test)"
   ]
  },
  {
   "cell_type": "code",
   "execution_count": 23,
   "metadata": {},
   "outputs": [],
   "source": [
    "test_time = (time.time() - test_time)"
   ]
  },
  {
   "cell_type": "code",
   "execution_count": 24,
   "metadata": {},
   "outputs": [],
   "source": [
    "import shutil\n",
    "\n",
    "del_time = time.time()\n",
    "shutil.rmtree(OUT_PATH)\n",
    "del_time = time.time() - del_time"
   ]
  },
  {
   "cell_type": "code",
   "execution_count": 25,
   "metadata": {},
   "outputs": [
    {
     "name": "stderr",
     "output_type": "stream",
     "text": [
      "100%|██████████| 12/12 [00:00<00:00, 53888.27it/s]\n"
     ]
    }
   ],
   "source": [
    "row_id = []\n",
    "target = []\n",
    "\n",
    "for name in tqdm(img_names):\n",
    "    row_id += [f'{name}_grapheme_root', f'{name}_vowel_diacritic', f'{name}_consonant_diacritic']\n",
    "\n",
    "submission_df = pd.DataFrame({'row_id': row_id, 'target': y_pred.flatten()})  # np.roll(y_pred, axis=1, shift=1).flatten()\n",
    "submission_df.to_csv('submission.csv', index=False)"
   ]
  },
  {
   "cell_type": "code",
   "execution_count": 26,
   "metadata": {},
   "outputs": [
    {
     "data": {
      "text/html": [
       "<div>\n",
       "<style scoped>\n",
       "    .dataframe tbody tr th:only-of-type {\n",
       "        vertical-align: middle;\n",
       "    }\n",
       "\n",
       "    .dataframe tbody tr th {\n",
       "        vertical-align: top;\n",
       "    }\n",
       "\n",
       "    .dataframe thead th {\n",
       "        text-align: right;\n",
       "    }\n",
       "</style>\n",
       "<table border=\"1\" class=\"dataframe\">\n",
       "  <thead>\n",
       "    <tr style=\"text-align: right;\">\n",
       "      <th></th>\n",
       "      <th>row_id</th>\n",
       "      <th>target</th>\n",
       "    </tr>\n",
       "  </thead>\n",
       "  <tbody>\n",
       "    <tr>\n",
       "      <th>0</th>\n",
       "      <td>Test_0_grapheme_root</td>\n",
       "      <td>3</td>\n",
       "    </tr>\n",
       "    <tr>\n",
       "      <th>1</th>\n",
       "      <td>Test_0_vowel_diacritic</td>\n",
       "      <td>0</td>\n",
       "    </tr>\n",
       "    <tr>\n",
       "      <th>2</th>\n",
       "      <td>Test_0_consonant_diacritic</td>\n",
       "      <td>0</td>\n",
       "    </tr>\n",
       "    <tr>\n",
       "      <th>3</th>\n",
       "      <td>Test_1_grapheme_root</td>\n",
       "      <td>93</td>\n",
       "    </tr>\n",
       "    <tr>\n",
       "      <th>4</th>\n",
       "      <td>Test_1_vowel_diacritic</td>\n",
       "      <td>2</td>\n",
       "    </tr>\n",
       "  </tbody>\n",
       "</table>\n",
       "</div>"
      ],
      "text/plain": [
       "                       row_id  target\n",
       "0        Test_0_grapheme_root       3\n",
       "1      Test_0_vowel_diacritic       0\n",
       "2  Test_0_consonant_diacritic       0\n",
       "3        Test_1_grapheme_root      93\n",
       "4      Test_1_vowel_diacritic       2"
      ]
     },
     "execution_count": 26,
     "metadata": {},
     "output_type": "execute_result"
    }
   ],
   "source": [
    "submission_df.head()"
   ]
  },
  {
   "cell_type": "code",
   "execution_count": 27,
   "metadata": {},
   "outputs": [
    {
     "name": "stdout",
     "output_type": "stream",
     "text": [
      "Preparing images time: 11 sec == 0.2 min\n",
      "Prediction time: 8 sec == 0.1 min\n",
      "Clean folder time: 0 sec == 0.0 min\n"
     ]
    }
   ],
   "source": [
    "print(f\"Preparing images time: {preproc_time:.0f} sec == {preproc_time / 60:.1f} min\")\n",
    "print(f\"Prediction time: {test_time:.0f} sec == {test_time / 60:.1f} min\")\n",
    "print(f\"Clean folder time: {del_time:.0f} sec == {del_time / 60:.1f} min\")"
   ]
  },
  {
   "cell_type": "code",
   "execution_count": null,
   "metadata": {},
   "outputs": [],
   "source": []
  }
 ],
 "metadata": {
  "kernelspec": {
   "display_name": "Python 3",
   "language": "python",
   "name": "python3"
  },
  "language_info": {
   "codemirror_mode": {
    "name": "ipython",
    "version": 3
   },
   "file_extension": ".py",
   "mimetype": "text/x-python",
   "name": "python",
   "nbconvert_exporter": "python",
   "pygments_lexer": "ipython3",
   "version": "3.6.6"
  }
 },
 "nbformat": 4,
 "nbformat_minor": 4
}
